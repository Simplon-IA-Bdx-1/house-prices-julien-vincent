{
 "cells": [
  {
   "cell_type": "code",
   "execution_count": 1,
   "metadata": {},
   "outputs": [
    {
     "name": "stderr",
     "output_type": "stream",
     "text": [
      "Using TensorFlow backend.\n"
     ]
    }
   ],
   "source": [
    "import numpy as np \n",
    "import pandas as pd \n",
    "\n",
    "\n",
    "from sklearn.preprocessing import StandardScaler\n",
    "from sklearn.model_selection import train_test_split\n",
    "from keras.models import Sequential\n",
    "from keras.layers import Dense, Dropout\n",
    "from keras import metrics\n",
    "import seaborn as sns\n",
    "import matplotlib.pyplot as plt\n",
    "import keras\n",
    "from keras.wrappers.scikit_learn import KerasRegressor\n",
    "from sklearn.model_selection import GridSearchCV\n",
    "\n",
    "# ignore Warning\n",
    "import warnings\n",
    "warnings.filterwarnings(\"ignore\") "
   ]
  },
  {
   "cell_type": "code",
   "execution_count": 2,
   "metadata": {},
   "outputs": [],
   "source": [
    "df_train = pd.read_csv('files_csv/train.csv')\n",
    "df_test = pd.read_csv('files_csv/test.csv')"
   ]
  },
  {
   "cell_type": "code",
   "execution_count": 3,
   "metadata": {},
   "outputs": [
    {
     "data": {
      "text/plain": [
       "0       1461\n",
       "1       1462\n",
       "2       1463\n",
       "3       1464\n",
       "4       1465\n",
       "        ... \n",
       "1454    2915\n",
       "1455    2916\n",
       "1456    2917\n",
       "1457    2918\n",
       "1458    2919\n",
       "Name: Id, Length: 1459, dtype: int64"
      ]
     },
     "execution_count": 3,
     "metadata": {},
     "output_type": "execute_result"
    }
   ],
   "source": [
    "df_test['Id']"
   ]
  },
  {
   "cell_type": "markdown",
   "metadata": {},
   "source": [
    "#### Features fortement corrélés avec SalePrice"
   ]
  },
  {
   "cell_type": "code",
   "execution_count": 4,
   "metadata": {},
   "outputs": [],
   "source": [
    "cols = ['SalePrice','OverallQual', 'GrLivArea', 'GarageCars', 'FullBath', 'YearBuilt']"
   ]
  },
  {
   "cell_type": "code",
   "execution_count": 5,
   "metadata": {},
   "outputs": [
    {
     "data": {
      "text/html": [
       "<div>\n",
       "<style scoped>\n",
       "    .dataframe tbody tr th:only-of-type {\n",
       "        vertical-align: middle;\n",
       "    }\n",
       "\n",
       "    .dataframe tbody tr th {\n",
       "        vertical-align: top;\n",
       "    }\n",
       "\n",
       "    .dataframe thead th {\n",
       "        text-align: right;\n",
       "    }\n",
       "</style>\n",
       "<table border=\"1\" class=\"dataframe\">\n",
       "  <thead>\n",
       "    <tr style=\"text-align: right;\">\n",
       "      <th></th>\n",
       "      <th>SalePrice</th>\n",
       "      <th>OverallQual</th>\n",
       "      <th>GrLivArea</th>\n",
       "      <th>GarageCars</th>\n",
       "      <th>FullBath</th>\n",
       "      <th>YearBuilt</th>\n",
       "    </tr>\n",
       "  </thead>\n",
       "  <tbody>\n",
       "    <tr>\n",
       "      <td>0</td>\n",
       "      <td>208500</td>\n",
       "      <td>7</td>\n",
       "      <td>1710</td>\n",
       "      <td>2</td>\n",
       "      <td>2</td>\n",
       "      <td>2003</td>\n",
       "    </tr>\n",
       "    <tr>\n",
       "      <td>1</td>\n",
       "      <td>181500</td>\n",
       "      <td>6</td>\n",
       "      <td>1262</td>\n",
       "      <td>2</td>\n",
       "      <td>2</td>\n",
       "      <td>1976</td>\n",
       "    </tr>\n",
       "    <tr>\n",
       "      <td>2</td>\n",
       "      <td>223500</td>\n",
       "      <td>7</td>\n",
       "      <td>1786</td>\n",
       "      <td>2</td>\n",
       "      <td>2</td>\n",
       "      <td>2001</td>\n",
       "    </tr>\n",
       "    <tr>\n",
       "      <td>3</td>\n",
       "      <td>140000</td>\n",
       "      <td>7</td>\n",
       "      <td>1717</td>\n",
       "      <td>3</td>\n",
       "      <td>1</td>\n",
       "      <td>1915</td>\n",
       "    </tr>\n",
       "    <tr>\n",
       "      <td>4</td>\n",
       "      <td>250000</td>\n",
       "      <td>8</td>\n",
       "      <td>2198</td>\n",
       "      <td>3</td>\n",
       "      <td>2</td>\n",
       "      <td>2000</td>\n",
       "    </tr>\n",
       "    <tr>\n",
       "      <td>...</td>\n",
       "      <td>...</td>\n",
       "      <td>...</td>\n",
       "      <td>...</td>\n",
       "      <td>...</td>\n",
       "      <td>...</td>\n",
       "      <td>...</td>\n",
       "    </tr>\n",
       "    <tr>\n",
       "      <td>1455</td>\n",
       "      <td>175000</td>\n",
       "      <td>6</td>\n",
       "      <td>1647</td>\n",
       "      <td>2</td>\n",
       "      <td>2</td>\n",
       "      <td>1999</td>\n",
       "    </tr>\n",
       "    <tr>\n",
       "      <td>1456</td>\n",
       "      <td>210000</td>\n",
       "      <td>6</td>\n",
       "      <td>2073</td>\n",
       "      <td>2</td>\n",
       "      <td>2</td>\n",
       "      <td>1978</td>\n",
       "    </tr>\n",
       "    <tr>\n",
       "      <td>1457</td>\n",
       "      <td>266500</td>\n",
       "      <td>7</td>\n",
       "      <td>2340</td>\n",
       "      <td>1</td>\n",
       "      <td>2</td>\n",
       "      <td>1941</td>\n",
       "    </tr>\n",
       "    <tr>\n",
       "      <td>1458</td>\n",
       "      <td>142125</td>\n",
       "      <td>5</td>\n",
       "      <td>1078</td>\n",
       "      <td>1</td>\n",
       "      <td>1</td>\n",
       "      <td>1950</td>\n",
       "    </tr>\n",
       "    <tr>\n",
       "      <td>1459</td>\n",
       "      <td>147500</td>\n",
       "      <td>5</td>\n",
       "      <td>1256</td>\n",
       "      <td>1</td>\n",
       "      <td>1</td>\n",
       "      <td>1965</td>\n",
       "    </tr>\n",
       "  </tbody>\n",
       "</table>\n",
       "<p>1460 rows × 6 columns</p>\n",
       "</div>"
      ],
      "text/plain": [
       "      SalePrice  OverallQual  GrLivArea  GarageCars  FullBath  YearBuilt\n",
       "0        208500            7       1710           2         2       2003\n",
       "1        181500            6       1262           2         2       1976\n",
       "2        223500            7       1786           2         2       2001\n",
       "3        140000            7       1717           3         1       1915\n",
       "4        250000            8       2198           3         2       2000\n",
       "...         ...          ...        ...         ...       ...        ...\n",
       "1455     175000            6       1647           2         2       1999\n",
       "1456     210000            6       2073           2         2       1978\n",
       "1457     266500            7       2340           1         2       1941\n",
       "1458     142125            5       1078           1         1       1950\n",
       "1459     147500            5       1256           1         1       1965\n",
       "\n",
       "[1460 rows x 6 columns]"
      ]
     },
     "execution_count": 5,
     "metadata": {},
     "output_type": "execute_result"
    }
   ],
   "source": [
    "df_train = df_train[cols]\n",
    "# # dummy values\n",
    "# df_train = pd.get_dummies(df_train) => que des numériques ??? \n",
    "# Na -> moyenne de la colonne\n",
    "df_train = df_train.fillna(df_train.mean())\n",
    "df_train"
   ]
  },
  {
   "cell_type": "markdown",
   "metadata": {},
   "source": [
    "#### StandardScaler train"
   ]
  },
  {
   "cell_type": "code",
   "execution_count": 6,
   "metadata": {},
   "outputs": [
    {
     "data": {
      "text/plain": [
       "array([[ 0.65147924,  0.37033344,  0.31172464,  0.78974052,  1.05099379],\n",
       "       [-0.07183611, -0.48251191,  0.31172464,  0.78974052,  0.15673371],\n",
       "       [ 0.65147924,  0.51501256,  0.31172464,  0.78974052,  0.9847523 ],\n",
       "       ...,\n",
       "       [ 0.65147924,  1.56964722, -1.02685765,  0.78974052, -1.00249232],\n",
       "       [-0.79515147, -0.83278768, -1.02685765, -1.02604084, -0.70440562],\n",
       "       [-0.79515147, -0.49393395, -1.02685765, -1.02604084, -0.20759447]])"
      ]
     },
     "execution_count": 6,
     "metadata": {},
     "output_type": "execute_result"
    }
   ],
   "source": [
    "# standard scale\n",
    "scale = StandardScaler()\n",
    "X_train = df_train[['OverallQual', 'GrLivArea', 'GarageCars', 'FullBath', 'YearBuilt']]\n",
    "X_train = scale.fit_transform(X_train)\n",
    "X_train"
   ]
  },
  {
   "cell_type": "code",
   "execution_count": 7,
   "metadata": {},
   "outputs": [
    {
     "data": {
      "text/plain": [
       "array([208500, 181500, 223500, ..., 266500, 142125, 147500])"
      ]
     },
     "execution_count": 7,
     "metadata": {},
     "output_type": "execute_result"
    }
   ],
   "source": [
    "y_train = df_train['SalePrice'].values\n",
    "y_train"
   ]
  },
  {
   "cell_type": "markdown",
   "metadata": {},
   "source": [
    "#### Seed"
   ]
  },
  {
   "cell_type": "code",
   "execution_count": 8,
   "metadata": {},
   "outputs": [],
   "source": [
    "# seed = 42\n",
    "# np.random.seed(seed)"
   ]
  },
  {
   "cell_type": "markdown",
   "metadata": {},
   "source": [
    "#### Split train/val"
   ]
  },
  {
   "cell_type": "code",
   "execution_count": 9,
   "metadata": {},
   "outputs": [],
   "source": [
    "# X_train, X_val, y_train, y_val = train_test_split(X_train, y_train, test_size=0.33, random_state=seed)"
   ]
  },
  {
   "cell_type": "markdown",
   "metadata": {},
   "source": [
    "#### Model"
   ]
  },
  {
   "cell_type": "code",
   "execution_count": 10,
   "metadata": {},
   "outputs": [],
   "source": [
    "def create_model():\n",
    "    # create model\n",
    "    model = Sequential()\n",
    "    model.add(Dense(200, input_dim=X_train.shape[1], kernel_initializer='normal', activation='relu'))\n",
    "    model.add(Dense(100, kernel_initializer='normal', activation='relu'))\n",
    "    model.add(Dense(50, kernel_initializer='normal', activation='relu'))\n",
    "    model.add(Dense(25, kernel_initializer='normal', activation='relu'))\n",
    "    model.add(Dense(1, kernel_initializer='normal'))\n",
    "    # Compile model\n",
    "    model.compile(loss='mean_squared_error', optimizer=keras.optimizers.Adadelta())\n",
    "    return model"
   ]
  },
  {
   "cell_type": "code",
   "execution_count": 11,
   "metadata": {},
   "outputs": [],
   "source": [
    "# model = KerasRegressor(build_fn=create_model)\n",
    "# epochs = np.array([10, 50,90])\n",
    "# batches = np.array([1,10,30])\n",
    "# param_grid = dict(nb_epoch=epochs, batch_size=batches)\n",
    "# grid = GridSearchCV(estimator=model, param_grid=param_grid)\n",
    "# grid_result = grid.fit(X_train,y_train)"
   ]
  },
  {
   "cell_type": "code",
   "execution_count": 12,
   "metadata": {},
   "outputs": [],
   "source": [
    "# print(\"Best: %f using %s\" % (grid_result.best_score_, grid_result.best_params_))"
   ]
  },
  {
   "cell_type": "code",
   "execution_count": 13,
   "metadata": {},
   "outputs": [
    {
     "name": "stdout",
     "output_type": "stream",
     "text": [
      "Model: \"sequential_1\"\n",
      "_________________________________________________________________\n",
      "Layer (type)                 Output Shape              Param #   \n",
      "=================================================================\n",
      "dense_1 (Dense)              (None, 200)               1200      \n",
      "_________________________________________________________________\n",
      "dense_2 (Dense)              (None, 100)               20100     \n",
      "_________________________________________________________________\n",
      "dense_3 (Dense)              (None, 50)                5050      \n",
      "_________________________________________________________________\n",
      "dense_4 (Dense)              (None, 25)                1275      \n",
      "_________________________________________________________________\n",
      "dense_5 (Dense)              (None, 1)                 26        \n",
      "=================================================================\n",
      "Total params: 27,651\n",
      "Trainable params: 27,651\n",
      "Non-trainable params: 0\n",
      "_________________________________________________________________\n"
     ]
    }
   ],
   "source": [
    "model = create_model()\n",
    "model.summary()"
   ]
  },
  {
   "cell_type": "code",
   "execution_count": 14,
   "metadata": {},
   "outputs": [
    {
     "name": "stdout",
     "output_type": "stream",
     "text": [
      "Epoch 1/150\n",
      "1460/1460 [==============================] - 2s 2ms/step - loss: 3074303556.7712\n",
      "Epoch 2/150\n",
      "1460/1460 [==============================] - 2s 2ms/step - loss: 1402883317.7262\n",
      "Epoch 3/150\n",
      "1460/1460 [==============================] - 2s 1ms/step - loss: 1388252810.0060\n",
      "Epoch 4/150\n",
      "1460/1460 [==============================] - 2s 1ms/step - loss: 1376548123.3275\n",
      "Epoch 5/150\n",
      "1460/1460 [==============================] - 2s 1ms/step - loss: 1368802856.5476\n",
      "Epoch 6/150\n",
      "1460/1460 [==============================] - 2s 2ms/step - loss: 1363387410.6508\n",
      "Epoch 7/150\n",
      "1460/1460 [==============================] - 2s 1ms/step - loss: 1319241093.9363\n",
      "Epoch 8/150\n",
      "1460/1460 [==============================] - 2s 1ms/step - loss: 1336722765.3875\n",
      "Epoch 9/150\n",
      "1460/1460 [==============================] - 2s 1ms/step - loss: 1319217070.8729\n",
      "Epoch 10/150\n",
      "1460/1460 [==============================] - 2s 1ms/step - loss: 1306532869.3098\n",
      "Epoch 11/150\n",
      "1460/1460 [==============================] - 2s 1ms/step - loss: 1300801162.2120\n",
      "Epoch 12/150\n",
      "1460/1460 [==============================] - 2s 1ms/step - loss: 1297918820.2507\n",
      "Epoch 13/150\n",
      "1460/1460 [==============================] - 2s 1ms/step - loss: 1321890490.2300\n",
      "Epoch 14/150\n",
      "1460/1460 [==============================] - 2s 1ms/step - loss: 1297822556.2774\n",
      "Epoch 15/150\n",
      "1460/1460 [==============================] - 2s 1ms/step - loss: 1284510210.0231\n",
      "Epoch 16/150\n",
      "1460/1460 [==============================] - 2s 1ms/step - loss: 1290821845.3323\n",
      "Epoch 17/150\n",
      "1460/1460 [==============================] - 2s 1ms/step - loss: 1314656656.1492\n",
      "Epoch 18/150\n",
      "1460/1460 [==============================] - 2s 1ms/step - loss: 1292002821.6380\n",
      "Epoch 19/150\n",
      "1460/1460 [==============================] - 2s 1ms/step - loss: 1298415566.1158\n",
      "Epoch 20/150\n",
      "1460/1460 [==============================] - 2s 1ms/step - loss: 1293564603.3015\n",
      "Epoch 21/150\n",
      "1460/1460 [==============================] - 2s 1ms/step - loss: 1289210253.9271\n",
      "Epoch 22/150\n",
      "1460/1460 [==============================] - 2s 1ms/step - loss: 1298316445.9659\n",
      "Epoch 23/150\n",
      "1460/1460 [==============================] - 2s 1ms/step - loss: 1267833441.2433\n",
      "Epoch 24/150\n",
      "1460/1460 [==============================] - 2s 1ms/step - loss: 1286337795.9765\n",
      "Epoch 25/150\n",
      "1460/1460 [==============================] - 2s 1ms/step - loss: 1269013435.6375\n",
      "Epoch 26/150\n",
      "1460/1460 [==============================] - 2s 1ms/step - loss: 1285565392.7824\n",
      "Epoch 27/150\n",
      "1460/1460 [==============================] - 2s 1ms/step - loss: 1245892489.0761\n",
      "Epoch 28/150\n",
      "1460/1460 [==============================] - 2s 2ms/step - loss: 1283982402.6964\n",
      "Epoch 29/150\n",
      "1460/1460 [==============================] - 2s 1ms/step - loss: 1285722648.3245\n",
      "Epoch 30/150\n",
      "1460/1460 [==============================] - 2s 1ms/step - loss: 1263840781.4997\n",
      "Epoch 31/150\n",
      "1460/1460 [==============================] - 2s 1ms/step - loss: 1286261479.7336\n",
      "Epoch 32/150\n",
      "1460/1460 [==============================] - 2s 1ms/step - loss: 1260856472.4399\n",
      "Epoch 33/150\n",
      "1460/1460 [==============================] - 2s 1ms/step - loss: 1269689699.9993\n",
      "Epoch 34/150\n",
      "1460/1460 [==============================] - 2s 1ms/step - loss: 1244697357.0035\n",
      "Epoch 35/150\n",
      "1460/1460 [==============================] - 2s 1ms/step - loss: 1220782878.8450\n",
      "Epoch 36/150\n",
      "1460/1460 [==============================] - 2s 1ms/step - loss: 1265275288.5450\n",
      "Epoch 37/150\n",
      "1460/1460 [==============================] - 2s 1ms/step - loss: 1236984526.2524\n",
      "Epoch 38/150\n",
      "1460/1460 [==============================] - 2s 1ms/step - loss: 1278019723.3460\n",
      "Epoch 39/150\n",
      "1460/1460 [==============================] - 2s 1ms/step - loss: 1261985465.8858\n",
      "Epoch 40/150\n",
      "1460/1460 [==============================] - 2s 1ms/step - loss: 1276102735.0158\n",
      "Epoch 41/150\n",
      "1460/1460 [==============================] - 2s 1ms/step - loss: 1246018750.4591\n",
      "Epoch 42/150\n",
      "1460/1460 [==============================] - 2s 1ms/step - loss: 1291988836.0574\n",
      "Epoch 43/150\n",
      "1460/1460 [==============================] - 2s 1ms/step - loss: 1284976428.2048\n",
      "Epoch 44/150\n",
      "1460/1460 [==============================] - 2s 1ms/step - loss: 1220746493.8881\n",
      "Epoch 45/150\n",
      "1460/1460 [==============================] - 2s 1ms/step - loss: 1237728153.5196\n",
      "Epoch 46/150\n",
      "1460/1460 [==============================] - 2s 1ms/step - loss: 1276163061.5848\n",
      "Epoch 47/150\n",
      "1460/1460 [==============================] - 2s 1ms/step - loss: 1278048888.2243\n",
      "Epoch 48/150\n",
      "1460/1460 [==============================] - 2s 1ms/step - loss: 1271745581.5282\n",
      "Epoch 49/150\n",
      "1460/1460 [==============================] - 2s 1ms/step - loss: 1209183557.8077\n",
      "Epoch 50/150\n",
      "1460/1460 [==============================] - 2s 1ms/step - loss: 1275262777.5938\n",
      "Epoch 51/150\n",
      "1460/1460 [==============================] - 2s 1ms/step - loss: 1270958723.5357\n",
      "Epoch 52/150\n",
      "1460/1460 [==============================] - 2s 1ms/step - loss: 1285212582.1458\n",
      "Epoch 53/150\n",
      "1460/1460 [==============================] - 2s 1ms/step - loss: 1281726868.7029\n",
      "Epoch 54/150\n",
      "1460/1460 [==============================] - 2s 1ms/step - loss: 1262182084.3715\n",
      "Epoch 55/150\n",
      "1460/1460 [==============================] - 2s 1ms/step - loss: 1244514974.7722\n",
      "Epoch 56/150\n",
      "1460/1460 [==============================] - 2s 1ms/step - loss: 1271709675.2320\n",
      "Epoch 57/150\n",
      "1460/1460 [==============================] - 2s 1ms/step - loss: 1269830084.7115\n",
      "Epoch 58/150\n",
      "1460/1460 [==============================] - 2s 1ms/step - loss: 1263081105.6799\n",
      "Epoch 59/150\n",
      "1460/1460 [==============================] - 2s 1ms/step - loss: 1245005649.7930\n",
      "Epoch 60/150\n",
      "1460/1460 [==============================] - 2s 1ms/step - loss: 1278497780.4260\n",
      "Epoch 61/150\n",
      "1460/1460 [==============================] - 2s 1ms/step - loss: 1271707323.6996\n",
      "Epoch 62/150\n",
      "1460/1460 [==============================] - 2s 1ms/step - loss: 1258890272.9593\n",
      "Epoch 63/150\n",
      "1460/1460 [==============================] - 2s 2ms/step - loss: 1288925636.9971\n",
      "Epoch 64/150\n",
      "1460/1460 [==============================] - 2s 2ms/step - loss: 1258214124.5817\n",
      "Epoch 65/150\n",
      "1460/1460 [==============================] - 2s 1ms/step - loss: 1266287531.0951\n",
      "Epoch 66/150\n",
      "1460/1460 [==============================] - 2s 1ms/step - loss: 1288786332.1172\n",
      "Epoch 67/150\n",
      "1460/1460 [==============================] - 2s 1ms/step - loss: 1260567510.3480\n",
      "Epoch 68/150\n",
      "1460/1460 [==============================] - 2s 1ms/step - loss: 1257091975.3226\n",
      "Epoch 69/150\n",
      "1460/1460 [==============================] - 2s 1ms/step - loss: 1261707130.7567\n",
      "Epoch 70/150\n",
      "1460/1460 [==============================] - 2s 1ms/step - loss: 1249638891.7423\n",
      "Epoch 71/150\n",
      "1460/1460 [==============================] - 2s 1ms/step - loss: 1277413717.5669\n",
      "Epoch 72/150\n",
      "1460/1460 [==============================] - 2s 1ms/step - loss: 1257311482.8378\n",
      "Epoch 73/150\n",
      "1460/1460 [==============================] - 2s 1ms/step - loss: 1304206737.5999\n",
      "Epoch 74/150\n",
      "1460/1460 [==============================] - 2s 1ms/step - loss: 1270756825.4103\n",
      "Epoch 75/150\n",
      "1460/1460 [==============================] - 2s 1ms/step - loss: 1240454707.8055\n",
      "Epoch 76/150\n",
      "1460/1460 [==============================] - 2s 1ms/step - loss: 1231829157.9873\n",
      "Epoch 77/150\n",
      "1460/1460 [==============================] - 2s 1ms/step - loss: 1271320110.9984\n",
      "Epoch 78/150\n",
      "1460/1460 [==============================] - 2s 1ms/step - loss: 1272857871.1033\n",
      "Epoch 79/150\n",
      "1460/1460 [==============================] - 2s 1ms/step - loss: 1282037326.0624\n",
      "Epoch 80/150\n",
      "1460/1460 [==============================] - 2s 1ms/step - loss: 1271957224.0850\n",
      "Epoch 81/150\n",
      "1460/1460 [==============================] - 2s 1ms/step - loss: 1235866761.7725\n",
      "Epoch 82/150\n",
      "1460/1460 [==============================] - 2s 1ms/step - loss: 1267413397.2663\n",
      "Epoch 83/150\n",
      "1460/1460 [==============================] - 2s 1ms/step - loss: 1262716356.3766\n",
      "Epoch 84/150\n",
      "1460/1460 [==============================] - 2s 1ms/step - loss: 1275412059.1399\n",
      "Epoch 85/150\n",
      "1460/1460 [==============================] - 2s 1ms/step - loss: 1281932972.6802\n",
      "Epoch 86/150\n",
      "1460/1460 [==============================] - 2s 1ms/step - loss: 1255177480.4165\n",
      "Epoch 87/150\n",
      "1460/1460 [==============================] - 2s 1ms/step - loss: 1245459055.0759\n",
      "Epoch 88/150\n"
     ]
    },
    {
     "name": "stdout",
     "output_type": "stream",
     "text": [
      "1460/1460 [==============================] - 2s 1ms/step - loss: 1254526450.8783\n",
      "Epoch 89/150\n",
      "1460/1460 [==============================] - 2s 1ms/step - loss: 1262356371.1440\n",
      "Epoch 90/150\n",
      "1460/1460 [==============================] - 2s 1ms/step - loss: 1252852843.9284\n",
      "Epoch 91/150\n",
      "1460/1460 [==============================] - 2s 1ms/step - loss: 1242022994.7814\n",
      "Epoch 92/150\n",
      "1460/1460 [==============================] - 2s 1ms/step - loss: 1230663702.6225\n",
      "Epoch 93/150\n",
      "1460/1460 [==============================] - 2s 1ms/step - loss: 1269551263.4619\n",
      "Epoch 94/150\n",
      "1460/1460 [==============================] - 3s 2ms/step - loss: 1232474961.2289\n",
      "Epoch 95/150\n",
      "1460/1460 [==============================] - 2s 1ms/step - loss: 1230408095.6876\n",
      "Epoch 96/150\n",
      "1460/1460 [==============================] - 2s 1ms/step - loss: 1239810983.0175\n",
      "Epoch 97/150\n",
      "1460/1460 [==============================] - 2s 1ms/step - loss: 1246666019.6504\n",
      "Epoch 98/150\n",
      "1460/1460 [==============================] - 2s 2ms/step - loss: 1252177874.7683\n",
      "Epoch 99/150\n",
      "1460/1460 [==============================] - 2s 1ms/step - loss: 1245305798.3655\n",
      "Epoch 100/150\n",
      "1460/1460 [==============================] - 2s 1ms/step - loss: 1270615197.1237\n",
      "Epoch 101/150\n",
      "1460/1460 [==============================] - 2s 1ms/step - loss: 1244095758.7690\n",
      "Epoch 102/150\n",
      "1460/1460 [==============================] - 2s 1ms/step - loss: 1204025277.5631\n",
      "Epoch 103/150\n",
      "1460/1460 [==============================] - 2s 1ms/step - loss: 1283219613.8141\n",
      "Epoch 104/150\n",
      "1460/1460 [==============================] - 2s 1ms/step - loss: 1228271605.7857\n",
      "Epoch 105/150\n",
      "1460/1460 [==============================] - 2s 1ms/step - loss: 1241216735.2892\n",
      "Epoch 106/150\n",
      "1460/1460 [==============================] - 2s 1ms/step - loss: 1248591666.0448\n",
      "Epoch 107/150\n",
      "1460/1460 [==============================] - 2s 1ms/step - loss: 1272152170.6018\n",
      "Epoch 108/150\n",
      "1460/1460 [==============================] - 2s 1ms/step - loss: 1250861117.7391\n",
      "Epoch 109/150\n",
      "1460/1460 [==============================] - 2s 1ms/step - loss: 1222008593.5251\n",
      "Epoch 110/150\n",
      "1460/1460 [==============================] - 2s 1ms/step - loss: 1255024402.0146\n",
      "Epoch 111/150\n",
      "1460/1460 [==============================] - 2s 1ms/step - loss: 1209325109.2390\n",
      "Epoch 112/150\n",
      "1460/1460 [==============================] - 2s 2ms/step - loss: 1232374262.4953\n",
      "Epoch 113/150\n",
      "1460/1460 [==============================] - 2s 1ms/step - loss: 1202132211.9798\n",
      "Epoch 114/150\n",
      "1460/1460 [==============================] - 2s 1ms/step - loss: 1213003679.3600\n",
      "Epoch 115/150\n",
      "1460/1460 [==============================] - 2s 1ms/step - loss: 1231610620.0459\n",
      "Epoch 116/150\n",
      "1460/1460 [==============================] - 2s 1ms/step - loss: 1227340632.4748\n",
      "Epoch 117/150\n",
      "1460/1460 [==============================] - 2s 1ms/step - loss: 1236044276.0015\n",
      "Epoch 118/150\n",
      "1460/1460 [==============================] - 2s 1ms/step - loss: 1267443301.3627\n",
      "Epoch 119/150\n",
      "1460/1460 [==============================] - 2s 1ms/step - loss: 1249742791.8045\n",
      "Epoch 120/150\n",
      "1460/1460 [==============================] - 2s 1ms/step - loss: 1259190969.2004\n",
      "Epoch 121/150\n",
      "1460/1460 [==============================] - 2s 1ms/step - loss: 1227194092.6910\n",
      "Epoch 122/150\n",
      "1460/1460 [==============================] - 2s 1ms/step - loss: 1224469336.4591\n",
      "Epoch 123/150\n",
      "1460/1460 [==============================] - 2s 1ms/step - loss: 1245851536.8617\n",
      "Epoch 124/150\n",
      "1460/1460 [==============================] - 2s 1ms/step - loss: 1269923799.5494\n",
      "Epoch 125/150\n",
      "1460/1460 [==============================] - 2s 2ms/step - loss: 1258360810.9244\n",
      "Epoch 126/150\n",
      "1460/1460 [==============================] - 2s 1ms/step - loss: 1207439836.2332\n",
      "Epoch 127/150\n",
      "1460/1460 [==============================] - 2s 1ms/step - loss: 1190847549.2481\n",
      "Epoch 128/150\n",
      "1460/1460 [==============================] - 2s 1ms/step - loss: 1222824588.9018\n",
      "Epoch 129/150\n",
      "1460/1460 [==============================] - 2s 1ms/step - loss: 1212287641.4442\n",
      "Epoch 130/150\n",
      "1460/1460 [==============================] - 2s 1ms/step - loss: 1198183161.7155\n",
      "Epoch 131/150\n",
      "1460/1460 [==============================] - 2s 1ms/step - loss: 1269125160.2024\n",
      "Epoch 132/150\n",
      "1460/1460 [==============================] - 2s 1ms/step - loss: 1261088899.6192\n",
      "Epoch 133/150\n",
      "1460/1460 [==============================] - 2s 1ms/step - loss: 1214114975.7940\n",
      "Epoch 134/150\n",
      "1460/1460 [==============================] - 2s 1ms/step - loss: 1226879479.0349\n",
      "Epoch 135/150\n",
      "1460/1460 [==============================] - 2s 1ms/step - loss: 1230229236.0417\n",
      "Epoch 136/150\n",
      "1460/1460 [==============================] - 2s 1ms/step - loss: 1239971292.5334\n",
      "Epoch 137/150\n",
      "1460/1460 [==============================] - 3s 2ms/step - loss: 1204274033.3110\n",
      "Epoch 138/150\n",
      "1460/1460 [==============================] - 2s 1ms/step - loss: 1215775170.6867\n",
      "Epoch 139/150\n",
      "1460/1460 [==============================] - 2s 1ms/step - loss: 1248393477.4783\n",
      "Epoch 140/150\n",
      "1460/1460 [==============================] - 2s 1ms/step - loss: 1245319162.8055\n",
      "Epoch 141/150\n",
      "1460/1460 [==============================] - 2s 1ms/step - loss: 1270652272.7138\n",
      "Epoch 142/150\n",
      "1460/1460 [==============================] - 2s 1ms/step - loss: 1260153366.7053\n",
      "Epoch 143/150\n",
      "1460/1460 [==============================] - 2s 1ms/step - loss: 1259451733.5827\n",
      "Epoch 144/150\n",
      "1460/1460 [==============================] - 2s 1ms/step - loss: 1260749422.5911\n",
      "Epoch 145/150\n",
      "1460/1460 [==============================] - 2s 1ms/step - loss: 1187852579.6534\n",
      "Epoch 146/150\n",
      "1460/1460 [==============================] - 2s 1ms/step - loss: 1250203898.1219\n",
      "Epoch 147/150\n",
      "1460/1460 [==============================] - 2s 1ms/step - loss: 1209666811.8050\n",
      "Epoch 148/150\n",
      "1460/1460 [==============================] - 2s 1ms/step - loss: 1234762030.5619\n",
      "Epoch 149/150\n",
      "1460/1460 [==============================] - 2s 1ms/step - loss: 1247163524.9815\n",
      "Epoch 150/150\n",
      "1460/1460 [==============================] - 2s 1ms/step - loss: 1228287441.0982\n"
     ]
    }
   ],
   "source": [
    "history = model.fit(X_train, y_train, epochs=150, batch_size=1)"
   ]
  },
  {
   "cell_type": "markdown",
   "metadata": {},
   "source": [
    "#### traitement sur le fichier Test"
   ]
  },
  {
   "cell_type": "code",
   "execution_count": 16,
   "metadata": {},
   "outputs": [],
   "source": [
    "cols = ['OverallQual', 'GrLivArea', 'GarageCars', 'FullBath', 'YearBuilt']\n",
    "test_ID = df_test['Id'].values.tolist()\n",
    "df_test = df_test[cols]\n",
    "df_test = df_test.fillna(df_test.mean())"
   ]
  },
  {
   "cell_type": "code",
   "execution_count": 17,
   "metadata": {},
   "outputs": [
    {
     "data": {
      "text/plain": [
       "array([[-0.75110125, -1.21558782, -0.98801273, -1.02871967, -0.34094461],\n",
       "       [-0.05487716, -0.32353941, -0.98801273, -1.02871967, -0.43969491],\n",
       "       [-0.75110125,  0.29450799,  0.30162251,  0.77308345,  0.844059  ],\n",
       "       ...,\n",
       "       [-0.75110125, -0.539856  ,  0.30162251, -1.02871967, -0.37386137],\n",
       "       [-0.75110125, -1.06313613, -2.27764797, -1.02871967,  0.67947517],\n",
       "       [ 0.64134693,  1.0588266 ,  1.59125775,  0.77308345,  0.71239193]])"
      ]
     },
     "execution_count": 17,
     "metadata": {},
     "output_type": "execute_result"
    }
   ],
   "source": [
    "X_test = df_test.values\n",
    "# scale , mais pourquoi on réutilise pas celui utilisé sur X_train ? \n",
    "# scale = StandardScaler()\n",
    "X_test = scale.fit_transform(X_test)\n",
    "X_test"
   ]
  },
  {
   "cell_type": "markdown",
   "metadata": {},
   "source": [
    "#### Prédiction"
   ]
  },
  {
   "cell_type": "code",
   "execution_count": 18,
   "metadata": {},
   "outputs": [],
   "source": [
    "prediction = model.predict(X_test)"
   ]
  },
  {
   "cell_type": "code",
   "execution_count": 19,
   "metadata": {},
   "outputs": [],
   "source": [
    "submission = pd.DataFrame()\n",
    "submission['Id'] = test_ID\n",
    "submission['SalePrice'] =  prediction\n",
    "submission.to_csv('Keras-5features.csv', index=False)"
   ]
  }
 ],
 "metadata": {
  "kernelspec": {
   "display_name": "Python 3",
   "language": "python",
   "name": "python3"
  },
  "language_info": {
   "codemirror_mode": {
    "name": "ipython",
    "version": 3
   },
   "file_extension": ".py",
   "mimetype": "text/x-python",
   "name": "python",
   "nbconvert_exporter": "python",
   "pygments_lexer": "ipython3",
   "version": "3.7.4"
  }
 },
 "nbformat": 4,
 "nbformat_minor": 2
}
