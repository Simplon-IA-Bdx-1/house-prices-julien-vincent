{
 "cells": [
  {
   "cell_type": "code",
   "execution_count": 1,
   "metadata": {},
   "outputs": [
    {
     "name": "stderr",
     "output_type": "stream",
     "text": [
      "Using TensorFlow backend.\n"
     ]
    }
   ],
   "source": [
    "import numpy as np \n",
    "import pandas as pd \n",
    "\n",
    "\n",
    "from sklearn.preprocessing import StandardScaler\n",
    "from sklearn.model_selection import train_test_split\n",
    "from keras.models import Sequential\n",
    "from keras.layers import Dense, Dropout\n",
    "from keras import metrics\n",
    "import seaborn as sns\n",
    "import matplotlib.pyplot as plt\n",
    "import keras\n",
    "from keras.wrappers.scikit_learn import KerasRegressor\n",
    "from sklearn.model_selection import GridSearchCV\n",
    "\n",
    "# ignore Warning\n",
    "import warnings\n",
    "warnings.filterwarnings(\"ignore\") "
   ]
  },
  {
   "cell_type": "code",
   "execution_count": 2,
   "metadata": {},
   "outputs": [],
   "source": [
    "df_train = pd.read_csv('files_csv/train.csv')\n",
    "df_test = pd.read_csv('files_csv/test.csv')"
   ]
  },
  {
   "cell_type": "markdown",
   "metadata": {},
   "source": [
    "#### Features fortement corrélés avec SalePrice"
   ]
  },
  {
   "cell_type": "code",
   "execution_count": 3,
   "metadata": {},
   "outputs": [],
   "source": [
    "cols = ['SalePrice','OverallQual', 'GrLivArea', 'GarageCars', 'FullBath', 'YearBuilt']"
   ]
  },
  {
   "cell_type": "code",
   "execution_count": 4,
   "metadata": {},
   "outputs": [
    {
     "data": {
      "text/html": [
       "<div>\n",
       "<style scoped>\n",
       "    .dataframe tbody tr th:only-of-type {\n",
       "        vertical-align: middle;\n",
       "    }\n",
       "\n",
       "    .dataframe tbody tr th {\n",
       "        vertical-align: top;\n",
       "    }\n",
       "\n",
       "    .dataframe thead th {\n",
       "        text-align: right;\n",
       "    }\n",
       "</style>\n",
       "<table border=\"1\" class=\"dataframe\">\n",
       "  <thead>\n",
       "    <tr style=\"text-align: right;\">\n",
       "      <th></th>\n",
       "      <th>SalePrice</th>\n",
       "      <th>OverallQual</th>\n",
       "      <th>GrLivArea</th>\n",
       "      <th>GarageCars</th>\n",
       "      <th>FullBath</th>\n",
       "      <th>YearBuilt</th>\n",
       "    </tr>\n",
       "  </thead>\n",
       "  <tbody>\n",
       "    <tr>\n",
       "      <td>0</td>\n",
       "      <td>208500</td>\n",
       "      <td>7</td>\n",
       "      <td>1710</td>\n",
       "      <td>2</td>\n",
       "      <td>2</td>\n",
       "      <td>2003</td>\n",
       "    </tr>\n",
       "    <tr>\n",
       "      <td>1</td>\n",
       "      <td>181500</td>\n",
       "      <td>6</td>\n",
       "      <td>1262</td>\n",
       "      <td>2</td>\n",
       "      <td>2</td>\n",
       "      <td>1976</td>\n",
       "    </tr>\n",
       "    <tr>\n",
       "      <td>2</td>\n",
       "      <td>223500</td>\n",
       "      <td>7</td>\n",
       "      <td>1786</td>\n",
       "      <td>2</td>\n",
       "      <td>2</td>\n",
       "      <td>2001</td>\n",
       "    </tr>\n",
       "    <tr>\n",
       "      <td>3</td>\n",
       "      <td>140000</td>\n",
       "      <td>7</td>\n",
       "      <td>1717</td>\n",
       "      <td>3</td>\n",
       "      <td>1</td>\n",
       "      <td>1915</td>\n",
       "    </tr>\n",
       "    <tr>\n",
       "      <td>4</td>\n",
       "      <td>250000</td>\n",
       "      <td>8</td>\n",
       "      <td>2198</td>\n",
       "      <td>3</td>\n",
       "      <td>2</td>\n",
       "      <td>2000</td>\n",
       "    </tr>\n",
       "    <tr>\n",
       "      <td>...</td>\n",
       "      <td>...</td>\n",
       "      <td>...</td>\n",
       "      <td>...</td>\n",
       "      <td>...</td>\n",
       "      <td>...</td>\n",
       "      <td>...</td>\n",
       "    </tr>\n",
       "    <tr>\n",
       "      <td>1455</td>\n",
       "      <td>175000</td>\n",
       "      <td>6</td>\n",
       "      <td>1647</td>\n",
       "      <td>2</td>\n",
       "      <td>2</td>\n",
       "      <td>1999</td>\n",
       "    </tr>\n",
       "    <tr>\n",
       "      <td>1456</td>\n",
       "      <td>210000</td>\n",
       "      <td>6</td>\n",
       "      <td>2073</td>\n",
       "      <td>2</td>\n",
       "      <td>2</td>\n",
       "      <td>1978</td>\n",
       "    </tr>\n",
       "    <tr>\n",
       "      <td>1457</td>\n",
       "      <td>266500</td>\n",
       "      <td>7</td>\n",
       "      <td>2340</td>\n",
       "      <td>1</td>\n",
       "      <td>2</td>\n",
       "      <td>1941</td>\n",
       "    </tr>\n",
       "    <tr>\n",
       "      <td>1458</td>\n",
       "      <td>142125</td>\n",
       "      <td>5</td>\n",
       "      <td>1078</td>\n",
       "      <td>1</td>\n",
       "      <td>1</td>\n",
       "      <td>1950</td>\n",
       "    </tr>\n",
       "    <tr>\n",
       "      <td>1459</td>\n",
       "      <td>147500</td>\n",
       "      <td>5</td>\n",
       "      <td>1256</td>\n",
       "      <td>1</td>\n",
       "      <td>1</td>\n",
       "      <td>1965</td>\n",
       "    </tr>\n",
       "  </tbody>\n",
       "</table>\n",
       "<p>1460 rows × 6 columns</p>\n",
       "</div>"
      ],
      "text/plain": [
       "      SalePrice  OverallQual  GrLivArea  GarageCars  FullBath  YearBuilt\n",
       "0        208500            7       1710           2         2       2003\n",
       "1        181500            6       1262           2         2       1976\n",
       "2        223500            7       1786           2         2       2001\n",
       "3        140000            7       1717           3         1       1915\n",
       "4        250000            8       2198           3         2       2000\n",
       "...         ...          ...        ...         ...       ...        ...\n",
       "1455     175000            6       1647           2         2       1999\n",
       "1456     210000            6       2073           2         2       1978\n",
       "1457     266500            7       2340           1         2       1941\n",
       "1458     142125            5       1078           1         1       1950\n",
       "1459     147500            5       1256           1         1       1965\n",
       "\n",
       "[1460 rows x 6 columns]"
      ]
     },
     "execution_count": 4,
     "metadata": {},
     "output_type": "execute_result"
    }
   ],
   "source": [
    "df_train = df_train[cols]\n",
    "# # dummy values\n",
    "# df_train = pd.get_dummies(df_train) => que des numériques ??? \n",
    "# Na -> moyenne de la colonne\n",
    "df_train = df_train.fillna(df_train.mean())\n",
    "df_train"
   ]
  },
  {
   "cell_type": "markdown",
   "metadata": {},
   "source": [
    "#### StandardScaler train"
   ]
  },
  {
   "cell_type": "code",
   "execution_count": 5,
   "metadata": {},
   "outputs": [
    {
     "data": {
      "text/plain": [
       "array([[ 0.65147924,  0.37033344,  0.31172464,  0.78974052,  1.05099379],\n",
       "       [-0.07183611, -0.48251191,  0.31172464,  0.78974052,  0.15673371],\n",
       "       [ 0.65147924,  0.51501256,  0.31172464,  0.78974052,  0.9847523 ],\n",
       "       ...,\n",
       "       [ 0.65147924,  1.56964722, -1.02685765,  0.78974052, -1.00249232],\n",
       "       [-0.79515147, -0.83278768, -1.02685765, -1.02604084, -0.70440562],\n",
       "       [-0.79515147, -0.49393395, -1.02685765, -1.02604084, -0.20759447]])"
      ]
     },
     "execution_count": 5,
     "metadata": {},
     "output_type": "execute_result"
    }
   ],
   "source": [
    "# standard scale\n",
    "scale = StandardScaler()\n",
    "X_train = df_train[['OverallQual', 'GrLivArea', 'GarageCars', 'FullBath', 'YearBuilt']]\n",
    "X_train = scale.fit_transform(X_train)\n",
    "X_train"
   ]
  },
  {
   "cell_type": "code",
   "execution_count": 6,
   "metadata": {},
   "outputs": [
    {
     "data": {
      "text/plain": [
       "array([208500, 181500, 223500, ..., 266500, 142125, 147500])"
      ]
     },
     "execution_count": 6,
     "metadata": {},
     "output_type": "execute_result"
    }
   ],
   "source": [
    "y_train = df_train['SalePrice'].values\n",
    "y_train"
   ]
  },
  {
   "cell_type": "markdown",
   "metadata": {},
   "source": [
    "#### Seed"
   ]
  },
  {
   "cell_type": "code",
   "execution_count": 7,
   "metadata": {},
   "outputs": [],
   "source": [
    "seed = 42\n",
    "np.random.seed(seed)"
   ]
  },
  {
   "cell_type": "markdown",
   "metadata": {},
   "source": [
    "#### Split train/val"
   ]
  },
  {
   "cell_type": "code",
   "execution_count": 8,
   "metadata": {},
   "outputs": [],
   "source": [
    "X_train, X_val, y_train, y_val = train_test_split(X_train, y_train, test_size=0.33, random_state=seed)"
   ]
  },
  {
   "cell_type": "markdown",
   "metadata": {},
   "source": [
    "#### Model"
   ]
  },
  {
   "cell_type": "code",
   "execution_count": 9,
   "metadata": {},
   "outputs": [],
   "source": [
    "def create_model():\n",
    "    # create model\n",
    "    model = Sequential()\n",
    "#     model.add(Dense(1, input_dim=X_train.shape[1], activation='relu'))\n",
    "#     model.add(Dense(30, activation='relu'))\n",
    "#     model.add(Dense(40, activation='relu'))\n",
    "#     model.add(Dense(1))\n",
    "#     # Compile model\n",
    "#     model.compile(optimizer ='adam', loss = 'mean_squared_error', \n",
    "#               metrics =[metrics.mae])\n",
    "    \n",
    "    model.add(Dense(200, input_dim=X_train.shape[1], kernel_initializer='normal', activation='relu'))\n",
    "    model.add(Dense(100, kernel_initializer='normal', activation='relu'))\n",
    "    model.add(Dense(50, kernel_initializer='normal', activation='relu'))\n",
    "    model.add(Dense(25, kernel_initializer='normal', activation='relu'))\n",
    "    model.add(Dense(1, kernel_initializer='normal'))\n",
    "    # Compile model\n",
    "    model.compile(loss='mean_squared_error', optimizer=keras.optimizers.Adadelta())\n",
    "    return model"
   ]
  },
  {
   "cell_type": "code",
   "execution_count": 10,
   "metadata": {},
   "outputs": [],
   "source": [
    "# model = KerasRegressor(build_fn=create_model)\n",
    "# epochs = np.array([10, 50,90])\n",
    "# batches = np.array([1,10,30])\n",
    "# param_grid = dict(nb_epoch=epochs, batch_size=batches)\n",
    "# grid = GridSearchCV(estimator=model, param_grid=param_grid)\n",
    "# grid_result = grid.fit(X_train,y_train)"
   ]
  },
  {
   "cell_type": "code",
   "execution_count": 11,
   "metadata": {},
   "outputs": [],
   "source": [
    "# print(\"Best: %f using %s\" % (grid_result.best_score_, grid_result.best_params_))"
   ]
  },
  {
   "cell_type": "code",
   "execution_count": 12,
   "metadata": {},
   "outputs": [
    {
     "name": "stdout",
     "output_type": "stream",
     "text": [
      "Model: \"sequential_1\"\n",
      "_________________________________________________________________\n",
      "Layer (type)                 Output Shape              Param #   \n",
      "=================================================================\n",
      "dense_1 (Dense)              (None, 200)               1200      \n",
      "_________________________________________________________________\n",
      "dense_2 (Dense)              (None, 100)               20100     \n",
      "_________________________________________________________________\n",
      "dense_3 (Dense)              (None, 50)                5050      \n",
      "_________________________________________________________________\n",
      "dense_4 (Dense)              (None, 25)                1275      \n",
      "_________________________________________________________________\n",
      "dense_5 (Dense)              (None, 1)                 26        \n",
      "=================================================================\n",
      "Total params: 27,651\n",
      "Trainable params: 27,651\n",
      "Non-trainable params: 0\n",
      "_________________________________________________________________\n"
     ]
    }
   ],
   "source": [
    "model = create_model()\n",
    "model.summary()"
   ]
  },
  {
   "cell_type": "code",
   "execution_count": 20,
   "metadata": {},
   "outputs": [
    {
     "name": "stdout",
     "output_type": "stream",
     "text": [
      "Train on 978 samples, validate on 482 samples\n",
      "Epoch 1/150\n",
      "978/978 [==============================] - 1s 1ms/step - loss: 1314433069.1057 - val_loss: 1214800976.0426\n",
      "Epoch 2/150\n",
      "978/978 [==============================] - 1s 1ms/step - loss: 1313181943.4011 - val_loss: 1280828020.1817\n",
      "Epoch 3/150\n",
      "978/978 [==============================] - 2s 2ms/step - loss: 1343576273.2273 - val_loss: 1277586121.6935\n",
      "Epoch 4/150\n",
      "978/978 [==============================] - 2s 2ms/step - loss: 1316265051.8404 - val_loss: 1226693954.5459\n",
      "Epoch 5/150\n",
      "978/978 [==============================] - 2s 2ms/step - loss: 1317069975.9219 - val_loss: 1220322054.3908\n",
      "Epoch 6/150\n",
      "978/978 [==============================] - 2s 2ms/step - loss: 1308096009.1811 - val_loss: 1225154342.6597\n",
      "Epoch 7/150\n",
      "978/978 [==============================] - 2s 2ms/step - loss: 1287219495.4073 - val_loss: 1314847285.7217\n",
      "Epoch 8/150\n",
      "978/978 [==============================] - 2s 2ms/step - loss: 1324544547.8385 - val_loss: 1193022275.4211\n",
      "Epoch 9/150\n",
      "978/978 [==============================] - 2s 2ms/step - loss: 1339438491.3790 - val_loss: 1176099329.6434\n",
      "Epoch 10/150\n",
      "978/978 [==============================] - 2s 2ms/step - loss: 1340265306.8109 - val_loss: 1181138072.3979\n",
      "Epoch 11/150\n",
      "978/978 [==============================] - 2s 2ms/step - loss: 1304024908.3626 - val_loss: 1171737345.3276\n",
      "Epoch 12/150\n",
      "978/978 [==============================] - 2s 2ms/step - loss: 1348003568.9173 - val_loss: 1202549551.4047\n",
      "Epoch 13/150\n",
      "978/978 [==============================] - 2s 2ms/step - loss: 1334349544.3258 - val_loss: 1193229078.6477\n",
      "Epoch 14/150\n",
      "978/978 [==============================] - 2s 2ms/step - loss: 1297173414.3474 - val_loss: 1168978398.0350\n",
      "Epoch 15/150\n",
      "978/978 [==============================] - 2s 2ms/step - loss: 1324584479.9037 - val_loss: 1201731511.3403\n",
      "Epoch 16/150\n",
      "978/978 [==============================] - 2s 2ms/step - loss: 1345471394.2374 - val_loss: 1159925280.5422\n",
      "Epoch 17/150\n",
      "978/978 [==============================] - 2s 2ms/step - loss: 1324461205.9583 - val_loss: 1203702074.4459\n",
      "Epoch 18/150\n",
      "978/978 [==============================] - 2s 2ms/step - loss: 1307817013.8294 - val_loss: 1160860567.7717\n",
      "Epoch 19/150\n",
      "978/978 [==============================] - 2s 2ms/step - loss: 1354938487.1804 - val_loss: 1199896193.1002\n",
      "Epoch 20/150\n",
      "978/978 [==============================] - 2s 2ms/step - loss: 1320203087.7104 - val_loss: 1154649148.0930\n",
      "Epoch 21/150\n",
      "978/978 [==============================] - 2s 2ms/step - loss: 1319310938.5542 - val_loss: 1206269295.8317\n",
      "Epoch 22/150\n",
      "978/978 [==============================] - 2s 2ms/step - loss: 1353366351.0737 - val_loss: 1202245706.8012\n",
      "Epoch 23/150\n",
      "978/978 [==============================] - 2s 2ms/step - loss: 1331290910.7374 - val_loss: 1154848623.0653\n",
      "Epoch 24/150\n",
      "978/978 [==============================] - 1s 1ms/step - loss: 1329863462.4849 - val_loss: 1180297071.9202\n",
      "Epoch 25/150\n",
      "978/978 [==============================] - 2s 2ms/step - loss: 1354796579.5498 - val_loss: 1156076786.7982\n",
      "Epoch 26/150\n",
      "978/978 [==============================] - 2s 2ms/step - loss: 1310766949.8345 - val_loss: 1167997803.4493\n",
      "Epoch 27/150\n",
      "978/978 [==============================] - 1s 1ms/step - loss: 1332535519.9068 - val_loss: 1171744933.6201\n",
      "Epoch 28/150\n",
      "978/978 [==============================] - 1s 1ms/step - loss: 1346771607.9680 - val_loss: 1150904919.4421\n",
      "Epoch 29/150\n",
      "978/978 [==============================] - 1s 1ms/step - loss: 1336752877.8072 - val_loss: 1187966667.4840\n",
      "Epoch 30/150\n",
      "978/978 [==============================] - 1s 1ms/step - loss: 1331823430.9849 - val_loss: 1228218116.4660\n",
      "Epoch 31/150\n",
      "978/978 [==============================] - 1s 1ms/step - loss: 1346799901.8904 - val_loss: 1242789499.5398\n",
      "Epoch 32/150\n",
      "978/978 [==============================] - 1s 1ms/step - loss: 1338641209.8783 - val_loss: 1158094284.3519\n",
      "Epoch 33/150\n",
      "978/978 [==============================] - 1s 1ms/step - loss: 1318863169.4062 - val_loss: 1176662196.3422\n",
      "Epoch 34/150\n",
      "978/978 [==============================] - 2s 2ms/step - loss: 1327317583.4305 - val_loss: 1179968595.8674\n",
      "Epoch 35/150\n",
      "978/978 [==============================] - 2s 2ms/step - loss: 1323136851.1679 - val_loss: 1137863524.2946\n",
      "Epoch 36/150\n",
      "978/978 [==============================] - 2s 2ms/step - loss: 1358341250.2763 - val_loss: 1149581486.9919\n",
      "Epoch 37/150\n",
      "978/978 [==============================] - 2s 2ms/step - loss: 1294250046.7726 - val_loss: 1212283179.6981\n",
      "Epoch 38/150\n",
      "978/978 [==============================] - 2s 2ms/step - loss: 1296515663.6382 - val_loss: 1363976932.0047\n",
      "Epoch 39/150\n",
      "978/978 [==============================] - 2s 2ms/step - loss: 1325637265.8209 - val_loss: 1130077008.4746\n",
      "Epoch 40/150\n",
      "978/978 [==============================] - 2s 2ms/step - loss: 1328979953.7997 - val_loss: 1144503485.8462\n",
      "Epoch 41/150\n",
      "978/978 [==============================] - 2s 2ms/step - loss: 1325762261.6517 - val_loss: 1180052365.0200\n",
      "Epoch 42/150\n",
      "978/978 [==============================] - 2s 2ms/step - loss: 1294405348.1081 - val_loss: 1127232556.5218\n",
      "Epoch 43/150\n",
      "978/978 [==============================] - 2s 2ms/step - loss: 1316611455.1240 - val_loss: 1161732438.8073\n",
      "Epoch 44/150\n",
      "978/978 [==============================] - 1s 1ms/step - loss: 1334459792.3560 - val_loss: 1212646207.7145\n",
      "Epoch 45/150\n",
      "978/978 [==============================] - 1s 2ms/step - loss: 1326023249.1275 - val_loss: 1140039155.8893\n",
      "Epoch 46/150\n",
      "978/978 [==============================] - 1s 1ms/step - loss: 1375014981.4246 - val_loss: 1133068702.6372\n",
      "Epoch 47/150\n",
      "978/978 [==============================] - 2s 2ms/step - loss: 1317762118.8920 - val_loss: 1175372088.9412\n",
      "Epoch 48/150\n",
      "978/978 [==============================] - 1s 1ms/step - loss: 1326725935.7008 - val_loss: 1226783612.6200\n",
      "Epoch 49/150\n",
      "978/978 [==============================] - 1s 1ms/step - loss: 1351640707.8545 - val_loss: 1146217985.2555\n",
      "Epoch 50/150\n",
      "978/978 [==============================] - 1s 2ms/step - loss: 1310449266.6101 - val_loss: 1132367826.9591\n",
      "Epoch 51/150\n",
      "978/978 [==============================] - 1s 1ms/step - loss: 1340575279.7390 - val_loss: 1132049847.4797\n",
      "Epoch 52/150\n",
      "978/978 [==============================] - 2s 2ms/step - loss: 1350471384.1543 - val_loss: 1152534554.6842\n",
      "Epoch 53/150\n",
      "978/978 [==============================] - 2s 2ms/step - loss: 1302451706.3844 - val_loss: 1128583139.1628\n",
      "Epoch 54/150\n",
      "978/978 [==============================] - 1s 1ms/step - loss: 1360676596.6865 - val_loss: 1131377895.9181\n",
      "Epoch 55/150\n",
      "978/978 [==============================] - 2s 2ms/step - loss: 1323263965.2298 - val_loss: 1219978840.8712\n",
      "Epoch 56/150\n",
      "978/978 [==============================] - 2s 2ms/step - loss: 1308221621.8827 - val_loss: 1155096884.7613\n",
      "Epoch 57/150\n",
      "978/978 [==============================] - 2s 2ms/step - loss: 1325087659.5797 - val_loss: 1148034642.5180\n",
      "Epoch 58/150\n",
      "978/978 [==============================] - 2s 2ms/step - loss: 1348561500.9411 - val_loss: 1126547454.5813\n",
      "Epoch 59/150\n",
      "978/978 [==============================] - 2s 2ms/step - loss: 1351573116.6140 - val_loss: 1125116687.2568\n",
      "Epoch 60/150\n",
      "978/978 [==============================] - 2s 2ms/step - loss: 1370858695.0650 - val_loss: 1173047573.3503\n",
      "Epoch 61/150\n",
      "978/978 [==============================] - 2s 2ms/step - loss: 1345470697.6646 - val_loss: 1195942596.1389\n",
      "Epoch 62/150\n",
      "978/978 [==============================] - 1s 1ms/step - loss: 1303085343.6410 - val_loss: 1124283087.3434\n",
      "Epoch 63/150\n",
      "978/978 [==============================] - 1s 1ms/step - loss: 1335014980.0315 - val_loss: 1124553972.9979\n",
      "Epoch 64/150\n",
      "978/978 [==============================] - 1s 1ms/step - loss: 1354823696.2520 - val_loss: 1127184710.7472\n",
      "Epoch 65/150\n",
      "978/978 [==============================] - 1s 1ms/step - loss: 1372635780.0920 - val_loss: 1126543167.3794\n",
      "Epoch 66/150\n",
      "978/978 [==============================] - 1s 1ms/step - loss: 1340613967.4576 - val_loss: 1139315201.9566\n",
      "Epoch 67/150\n",
      "978/978 [==============================] - 2s 2ms/step - loss: 1335736534.0646 - val_loss: 1102113435.2779\n",
      "Epoch 68/150\n",
      "978/978 [==============================] - 2s 2ms/step - loss: 1363635146.5259 - val_loss: 1193163449.9130\n"
     ]
    },
    {
     "name": "stdout",
     "output_type": "stream",
     "text": [
      "Epoch 69/150\n",
      "978/978 [==============================] - 1s 2ms/step - loss: 1363140694.7256 - val_loss: 1123232906.7195\n",
      "Epoch 70/150\n",
      "978/978 [==============================] - 2s 2ms/step - loss: 1341350731.4612 - val_loss: 1123662889.7388\n",
      "Epoch 71/150\n",
      "978/978 [==============================] - 2s 2ms/step - loss: 1349479247.5266 - val_loss: 1095439844.2975\n",
      "Epoch 72/150\n",
      "978/978 [==============================] - 2s 2ms/step - loss: 1355028901.6986 - val_loss: 1102175006.8424\n",
      "Epoch 73/150\n",
      "978/978 [==============================] - 2s 2ms/step - loss: 1354397444.7424 - val_loss: 1101771577.5340\n",
      "Epoch 74/150\n",
      "978/978 [==============================] - 2s 2ms/step - loss: 1363991741.5396 - val_loss: 1099647868.5931\n",
      "Epoch 75/150\n",
      "978/978 [==============================] - 2s 2ms/step - loss: 1391776340.1625 - val_loss: 1100179277.4006\n",
      "Epoch 76/150\n",
      "978/978 [==============================] - 2s 2ms/step - loss: 1350103325.1239 - val_loss: 1112729726.8839\n",
      "Epoch 77/150\n",
      "978/978 [==============================] - 2s 2ms/step - loss: 1369595752.6643 - val_loss: 1119783601.3023\n",
      "Epoch 78/150\n",
      "978/978 [==============================] - 2s 2ms/step - loss: 1346035857.0498 - val_loss: 1105747405.3209\n",
      "Epoch 79/150\n",
      "978/978 [==============================] - 2s 2ms/step - loss: 1375247208.7366 - val_loss: 1109826741.5540\n",
      "Epoch 80/150\n",
      "978/978 [==============================] - 1s 1ms/step - loss: 1356262726.6530 - val_loss: 1137559475.2678\n",
      "Epoch 81/150\n",
      "978/978 [==============================] - 2s 2ms/step - loss: 1346474111.4308 - val_loss: 1155992326.7475\n",
      "Epoch 82/150\n",
      "978/978 [==============================] - 2s 2ms/step - loss: 1379232710.6098 - val_loss: 1168106607.4845\n",
      "Epoch 83/150\n",
      "978/978 [==============================] - 1s 1ms/step - loss: 1359502300.3417 - val_loss: 1112163768.3924\n",
      "Epoch 84/150\n",
      "978/978 [==============================] - 2s 2ms/step - loss: 1350915150.4226 - val_loss: 1097354729.1200\n",
      "Epoch 85/150\n",
      "978/978 [==============================] - 2s 2ms/step - loss: 1364236309.5980 - val_loss: 1137398349.6503\n",
      "Epoch 86/150\n",
      "978/978 [==============================] - 2s 2ms/step - loss: 1367392655.6583 - val_loss: 1086892975.7520\n",
      "Epoch 87/150\n",
      "978/978 [==============================] - 2s 2ms/step - loss: 1330079113.8911 - val_loss: 1095923017.4199\n",
      "Epoch 88/150\n",
      "978/978 [==============================] - 2s 2ms/step - loss: 1371366459.9907 - val_loss: 1133744282.6862\n",
      "Epoch 89/150\n",
      "978/978 [==============================] - 2s 2ms/step - loss: 1368701755.8499 - val_loss: 1163264591.1215\n",
      "Epoch 90/150\n",
      "978/978 [==============================] - 2s 2ms/step - loss: 1360894292.7004 - val_loss: 1084412578.1719\n",
      "Epoch 91/150\n",
      "978/978 [==============================] - 2s 2ms/step - loss: 1368214801.5715 - val_loss: 1110932122.8878\n",
      "Epoch 92/150\n",
      "978/978 [==============================] - 3s 3ms/step - loss: 1354646626.1425 - val_loss: 1103924626.8167\n",
      "Epoch 93/150\n",
      "978/978 [==============================] - 2s 2ms/step - loss: 1340940641.3788 - val_loss: 1090790136.3397\n",
      "Epoch 94/150\n",
      "978/978 [==============================] - 2s 2ms/step - loss: 1382887393.1033 - val_loss: 1085076784.6384\n",
      "Epoch 95/150\n",
      "978/978 [==============================] - 2s 2ms/step - loss: 1343376984.3885 - val_loss: 1127588693.9071\n",
      "Epoch 96/150\n",
      "978/978 [==============================] - 2s 2ms/step - loss: 1360603927.8863 - val_loss: 1096996228.2818\n",
      "Epoch 97/150\n",
      "978/978 [==============================] - 2s 2ms/step - loss: 1340349845.2703 - val_loss: 1082861542.4783\n",
      "Epoch 98/150\n",
      "978/978 [==============================] - 2s 2ms/step - loss: 1344617752.7115 - val_loss: 1099057175.4874\n",
      "Epoch 99/150\n",
      "978/978 [==============================] - 1s 1ms/step - loss: 1353013331.8685 - val_loss: 1112628257.4445\n",
      "Epoch 100/150\n",
      "978/978 [==============================] - 1s 2ms/step - loss: 1375868678.6716 - val_loss: 1153689653.7417\n",
      "Epoch 101/150\n",
      "978/978 [==============================] - 2s 2ms/step - loss: 1326299140.7249 - val_loss: 1099137646.1634\n",
      "Epoch 102/150\n",
      "978/978 [==============================] - 2s 2ms/step - loss: 1344340977.5725 - val_loss: 1094068626.0657\n",
      "Epoch 103/150\n",
      "978/978 [==============================] - 2s 2ms/step - loss: 1343930358.2945 - val_loss: 1082168810.1515\n",
      "Epoch 104/150\n",
      "978/978 [==============================] - 2s 2ms/step - loss: 1370518787.8043 - val_loss: 1127949022.9132\n",
      "Epoch 105/150\n",
      "978/978 [==============================] - 2s 2ms/step - loss: 1394688732.0281 - val_loss: 1087815132.8749\n",
      "Epoch 106/150\n",
      "978/978 [==============================] - 2s 2ms/step - loss: 1359660672.4525 - val_loss: 1098044659.2102\n",
      "Epoch 107/150\n",
      "978/978 [==============================] - 1s 1ms/step - loss: 1332667998.4594 - val_loss: 1113631737.7220\n",
      "Epoch 108/150\n",
      "978/978 [==============================] - 1s 1ms/step - loss: 1348179084.2284 - val_loss: 1114272723.6268\n",
      "Epoch 109/150\n",
      "978/978 [==============================] - 1s 1ms/step - loss: 1319588036.6996 - val_loss: 1080973275.1883\n",
      "Epoch 110/150\n",
      "978/978 [==============================] - 1s 1ms/step - loss: 1394038751.3012 - val_loss: 1091969685.0205\n",
      "Epoch 111/150\n",
      "978/978 [==============================] - 1s 1ms/step - loss: 1347604154.0551 - val_loss: 1112537465.0802\n",
      "Epoch 112/150\n",
      "978/978 [==============================] - 1s 1ms/step - loss: 1336417149.1091 - val_loss: 1184416676.9358\n",
      "Epoch 113/150\n",
      "978/978 [==============================] - 1s 1ms/step - loss: 1345455133.4042 - val_loss: 1113125430.9226\n",
      "Epoch 114/150\n",
      "978/978 [==============================] - 1s 1ms/step - loss: 1364023188.3737 - val_loss: 1128429494.6348\n",
      "Epoch 115/150\n",
      "978/978 [==============================] - 1s 1ms/step - loss: 1370621890.8609 - val_loss: 1092827667.6226\n",
      "Epoch 116/150\n",
      "978/978 [==============================] - 1s 1ms/step - loss: 1350552282.1076 - val_loss: 1097036987.9163\n",
      "Epoch 117/150\n",
      "978/978 [==============================] - 1s 1ms/step - loss: 1365121575.9111 - val_loss: 1096893296.0241\n",
      "Epoch 118/150\n",
      "978/978 [==============================] - 1s 1ms/step - loss: 1348767463.5946 - val_loss: 1096196285.5884\n",
      "Epoch 119/150\n",
      "978/978 [==============================] - 1s 1ms/step - loss: 1309322705.4123 - val_loss: 1118025467.2525\n",
      "Epoch 120/150\n",
      "978/978 [==============================] - 1s 1ms/step - loss: 1357708275.8127 - val_loss: 1139776789.7261\n",
      "Epoch 121/150\n",
      "978/978 [==============================] - 1s 1ms/step - loss: 1350156550.9858 - val_loss: 1094882085.3036\n",
      "Epoch 122/150\n",
      "978/978 [==============================] - 2s 2ms/step - loss: 1384608150.0944 - val_loss: 1102734970.3425\n",
      "Epoch 123/150\n",
      "978/978 [==============================] - 1s 1ms/step - loss: 1355556487.1015 - val_loss: 1113708634.3174\n",
      "Epoch 124/150\n",
      "978/978 [==============================] - 1s 1ms/step - loss: 1351222916.7200 - val_loss: 1082994749.1117\n",
      "Epoch 125/150\n",
      "978/978 [==============================] - 1s 1ms/step - loss: 1345528824.0216 - val_loss: 1075156129.8922\n",
      "Epoch 126/150\n",
      "978/978 [==============================] - 1s 1ms/step - loss: 1369119061.9361 - val_loss: 1083464230.7919\n",
      "Epoch 127/150\n",
      "978/978 [==============================] - 1s 1ms/step - loss: 1363518535.0575 - val_loss: 1084959397.5732\n",
      "Epoch 128/150\n",
      "978/978 [==============================] - 2s 2ms/step - loss: 1358229087.0088 - val_loss: 1127789997.0471\n",
      "Epoch 129/150\n",
      "978/978 [==============================] - 2s 2ms/step - loss: 1353450272.0000 - val_loss: 1175640827.5619\n",
      "Epoch 130/150\n",
      "978/978 [==============================] - 2s 2ms/step - loss: 1364626658.6904 - val_loss: 1134243918.0128\n",
      "Epoch 131/150\n",
      "978/978 [==============================] - 2s 2ms/step - loss: 1318712550.7474 - val_loss: 1185984711.7324\n",
      "Epoch 132/150\n",
      "978/978 [==============================] - 1s 1ms/step - loss: 1343158917.3093 - val_loss: 1095993204.8861\n",
      "Epoch 133/150\n",
      "978/978 [==============================] - 2s 2ms/step - loss: 1346368920.4909 - val_loss: 1114022257.6947\n",
      "Epoch 134/150\n",
      "978/978 [==============================] - 3s 3ms/step - loss: 1331887497.5155 - val_loss: 1139929547.7133\n",
      "Epoch 135/150\n",
      "978/978 [==============================] - 1s 1ms/step - loss: 1314098523.9396 - val_loss: 1126722403.6591\n",
      "Epoch 136/150\n",
      "978/978 [==============================] - 2s 2ms/step - loss: 1338659622.2596 - val_loss: 1124104612.6239\n"
     ]
    },
    {
     "name": "stdout",
     "output_type": "stream",
     "text": [
      "Epoch 137/150\n",
      "978/978 [==============================] - 2s 2ms/step - loss: 1365597616.0251 - val_loss: 1085807852.1247\n",
      "Epoch 138/150\n",
      "978/978 [==============================] - 2s 2ms/step - loss: 1335734685.8232 - val_loss: 1159332222.1713\n",
      "Epoch 139/150\n",
      "978/978 [==============================] - 2s 2ms/step - loss: 1331997525.6512 - val_loss: 1138008281.9749\n",
      "Epoch 140/150\n",
      "978/978 [==============================] - 2s 2ms/step - loss: 1322283238.3383 - val_loss: 1090144326.1382\n",
      "Epoch 141/150\n",
      "978/978 [==============================] - 2s 2ms/step - loss: 1379280208.5699 - val_loss: 1088482826.5610\n",
      "Epoch 142/150\n",
      "978/978 [==============================] - 1s 1ms/step - loss: 1357067903.0206 - val_loss: 1088392226.4422\n",
      "Epoch 143/150\n",
      "978/978 [==============================] - 2s 2ms/step - loss: 1358883863.1296 - val_loss: 1156560308.3007\n",
      "Epoch 144/150\n",
      "978/978 [==============================] - 1s 2ms/step - loss: 1315545585.2924 - val_loss: 1111701402.3865\n",
      "Epoch 145/150\n",
      "978/978 [==============================] - 2s 2ms/step - loss: 1338913984.0234 - val_loss: 1083172529.0465\n",
      "Epoch 146/150\n",
      "978/978 [==============================] - 1s 1ms/step - loss: 1384731143.8359 - val_loss: 1119556949.7868\n",
      "Epoch 147/150\n",
      "978/978 [==============================] - 1s 1ms/step - loss: 1350707908.9158 - val_loss: 1104734896.0975\n",
      "Epoch 148/150\n",
      "978/978 [==============================] - 1s 1ms/step - loss: 1323406505.0042 - val_loss: 1093680735.2593\n",
      "Epoch 149/150\n",
      "978/978 [==============================] - 1s 1ms/step - loss: 1342926577.5950 - val_loss: 1092527218.1993\n",
      "Epoch 150/150\n",
      "978/978 [==============================] - 1s 1ms/step - loss: 1372821230.6730 - val_loss: 1104735544.4924\n"
     ]
    }
   ],
   "source": [
    "history = model.fit(X_train, y_train, validation_data=(X_val,y_val), epochs=150, batch_size=1)"
   ]
  },
  {
   "cell_type": "code",
   "execution_count": 14,
   "metadata": {},
   "outputs": [
    {
     "ename": "KeyError",
     "evalue": "'mean_absolute_error'",
     "output_type": "error",
     "traceback": [
      "\u001b[0;31m---------------------------------------------------------------------------\u001b[0m",
      "\u001b[0;31mKeyError\u001b[0m                                  Traceback (most recent call last)",
      "\u001b[0;32m<ipython-input-14-a00953827239>\u001b[0m in \u001b[0;36m<module>\u001b[0;34m\u001b[0m\n\u001b[1;32m      1\u001b[0m \u001b[0;31m# summarize history for accuracy\u001b[0m\u001b[0;34m\u001b[0m\u001b[0;34m\u001b[0m\u001b[0;34m\u001b[0m\u001b[0m\n\u001b[0;32m----> 2\u001b[0;31m \u001b[0mplt\u001b[0m\u001b[0;34m.\u001b[0m\u001b[0mplot\u001b[0m\u001b[0;34m(\u001b[0m\u001b[0mhistory\u001b[0m\u001b[0;34m.\u001b[0m\u001b[0mhistory\u001b[0m\u001b[0;34m[\u001b[0m\u001b[0;34m'mean_absolute_error'\u001b[0m\u001b[0;34m]\u001b[0m\u001b[0;34m)\u001b[0m\u001b[0;34m\u001b[0m\u001b[0;34m\u001b[0m\u001b[0m\n\u001b[0m\u001b[1;32m      3\u001b[0m \u001b[0mplt\u001b[0m\u001b[0;34m.\u001b[0m\u001b[0mplot\u001b[0m\u001b[0;34m(\u001b[0m\u001b[0mhistory\u001b[0m\u001b[0;34m.\u001b[0m\u001b[0mhistory\u001b[0m\u001b[0;34m[\u001b[0m\u001b[0;34m'val_mean_absolute_error'\u001b[0m\u001b[0;34m]\u001b[0m\u001b[0;34m)\u001b[0m\u001b[0;34m\u001b[0m\u001b[0;34m\u001b[0m\u001b[0m\n\u001b[1;32m      4\u001b[0m \u001b[0mplt\u001b[0m\u001b[0;34m.\u001b[0m\u001b[0mtitle\u001b[0m\u001b[0;34m(\u001b[0m\u001b[0;34m'model accuracy'\u001b[0m\u001b[0;34m)\u001b[0m\u001b[0;34m\u001b[0m\u001b[0;34m\u001b[0m\u001b[0m\n\u001b[1;32m      5\u001b[0m \u001b[0mplt\u001b[0m\u001b[0;34m.\u001b[0m\u001b[0mylabel\u001b[0m\u001b[0;34m(\u001b[0m\u001b[0;34m'accuracy'\u001b[0m\u001b[0;34m)\u001b[0m\u001b[0;34m\u001b[0m\u001b[0;34m\u001b[0m\u001b[0m\n",
      "\u001b[0;31mKeyError\u001b[0m: 'mean_absolute_error'"
     ]
    }
   ],
   "source": [
    "# # summarize history for accuracy\n",
    "# plt.plot(history.history['mean_absolute_error'])\n",
    "# plt.plot(history.history['val_mean_absolute_error'])\n",
    "# plt.title('model accuracy')\n",
    "# plt.ylabel('accuracy')\n",
    "# plt.xlabel('epoch')\n",
    "# plt.legend(['train', 'test'], loc='upper left')\n",
    "# plt.show()\n",
    "# # summarize history for loss\n",
    "# plt.plot(history.history['loss'])\n",
    "# plt.plot(history.history['val_loss'])\n",
    "# plt.title('model loss')\n",
    "# plt.ylabel('loss')\n",
    "# plt.xlabel('epoch')\n",
    "# plt.legend(['train', 'test'], loc='upper left')\n",
    "# plt.show()"
   ]
  },
  {
   "cell_type": "markdown",
   "metadata": {},
   "source": [
    "#### traitement sur le fichier Test"
   ]
  },
  {
   "cell_type": "code",
   "execution_count": 21,
   "metadata": {},
   "outputs": [
    {
     "ename": "KeyError",
     "evalue": "'Id'",
     "output_type": "error",
     "traceback": [
      "\u001b[0;31m---------------------------------------------------------------------------\u001b[0m",
      "\u001b[0;31mKeyError\u001b[0m                                  Traceback (most recent call last)",
      "\u001b[0;32m/opt/conda/lib/python3.7/site-packages/pandas/core/indexes/base.py\u001b[0m in \u001b[0;36mget_loc\u001b[0;34m(self, key, method, tolerance)\u001b[0m\n\u001b[1;32m   2896\u001b[0m             \u001b[0;32mtry\u001b[0m\u001b[0;34m:\u001b[0m\u001b[0;34m\u001b[0m\u001b[0;34m\u001b[0m\u001b[0m\n\u001b[0;32m-> 2897\u001b[0;31m                 \u001b[0;32mreturn\u001b[0m \u001b[0mself\u001b[0m\u001b[0;34m.\u001b[0m\u001b[0m_engine\u001b[0m\u001b[0;34m.\u001b[0m\u001b[0mget_loc\u001b[0m\u001b[0;34m(\u001b[0m\u001b[0mkey\u001b[0m\u001b[0;34m)\u001b[0m\u001b[0;34m\u001b[0m\u001b[0;34m\u001b[0m\u001b[0m\n\u001b[0m\u001b[1;32m   2898\u001b[0m             \u001b[0;32mexcept\u001b[0m \u001b[0mKeyError\u001b[0m\u001b[0;34m:\u001b[0m\u001b[0;34m\u001b[0m\u001b[0;34m\u001b[0m\u001b[0m\n",
      "\u001b[0;32mpandas/_libs/index.pyx\u001b[0m in \u001b[0;36mpandas._libs.index.IndexEngine.get_loc\u001b[0;34m()\u001b[0m\n",
      "\u001b[0;32mpandas/_libs/index.pyx\u001b[0m in \u001b[0;36mpandas._libs.index.IndexEngine.get_loc\u001b[0;34m()\u001b[0m\n",
      "\u001b[0;32mpandas/_libs/hashtable_class_helper.pxi\u001b[0m in \u001b[0;36mpandas._libs.hashtable.PyObjectHashTable.get_item\u001b[0;34m()\u001b[0m\n",
      "\u001b[0;32mpandas/_libs/hashtable_class_helper.pxi\u001b[0m in \u001b[0;36mpandas._libs.hashtable.PyObjectHashTable.get_item\u001b[0;34m()\u001b[0m\n",
      "\u001b[0;31mKeyError\u001b[0m: 'Id'",
      "\nDuring handling of the above exception, another exception occurred:\n",
      "\u001b[0;31mKeyError\u001b[0m                                  Traceback (most recent call last)",
      "\u001b[0;32m<ipython-input-21-1a2e055dbe86>\u001b[0m in \u001b[0;36m<module>\u001b[0;34m\u001b[0m\n\u001b[1;32m      1\u001b[0m \u001b[0mcols\u001b[0m \u001b[0;34m=\u001b[0m \u001b[0;34m[\u001b[0m\u001b[0;34m'OverallQual'\u001b[0m\u001b[0;34m,\u001b[0m \u001b[0;34m'GrLivArea'\u001b[0m\u001b[0;34m,\u001b[0m \u001b[0;34m'GarageCars'\u001b[0m\u001b[0;34m,\u001b[0m \u001b[0;34m'FullBath'\u001b[0m\u001b[0;34m,\u001b[0m \u001b[0;34m'YearBuilt'\u001b[0m\u001b[0;34m]\u001b[0m\u001b[0;34m\u001b[0m\u001b[0;34m\u001b[0m\u001b[0m\n\u001b[0;32m----> 2\u001b[0;31m \u001b[0mtest_ID\u001b[0m \u001b[0;34m=\u001b[0m \u001b[0mdf_test\u001b[0m\u001b[0;34m[\u001b[0m\u001b[0;34m'Id'\u001b[0m\u001b[0;34m]\u001b[0m\u001b[0;34m.\u001b[0m\u001b[0mvalues\u001b[0m\u001b[0;34m.\u001b[0m\u001b[0mtolist\u001b[0m\u001b[0;34m(\u001b[0m\u001b[0;34m)\u001b[0m\u001b[0;34m\u001b[0m\u001b[0;34m\u001b[0m\u001b[0m\n\u001b[0m\u001b[1;32m      3\u001b[0m \u001b[0mdf_test\u001b[0m \u001b[0;34m=\u001b[0m \u001b[0mdf_test\u001b[0m\u001b[0;34m[\u001b[0m\u001b[0mcols\u001b[0m\u001b[0;34m]\u001b[0m\u001b[0;34m\u001b[0m\u001b[0;34m\u001b[0m\u001b[0m\n\u001b[1;32m      4\u001b[0m \u001b[0mdf_test\u001b[0m \u001b[0;34m=\u001b[0m \u001b[0mdf_test\u001b[0m\u001b[0;34m.\u001b[0m\u001b[0mfillna\u001b[0m\u001b[0;34m(\u001b[0m\u001b[0mdf_test\u001b[0m\u001b[0;34m.\u001b[0m\u001b[0mmean\u001b[0m\u001b[0;34m(\u001b[0m\u001b[0;34m)\u001b[0m\u001b[0;34m)\u001b[0m\u001b[0;34m\u001b[0m\u001b[0;34m\u001b[0m\u001b[0m\n",
      "\u001b[0;32m/opt/conda/lib/python3.7/site-packages/pandas/core/frame.py\u001b[0m in \u001b[0;36m__getitem__\u001b[0;34m(self, key)\u001b[0m\n\u001b[1;32m   2978\u001b[0m             \u001b[0;32mif\u001b[0m \u001b[0mself\u001b[0m\u001b[0;34m.\u001b[0m\u001b[0mcolumns\u001b[0m\u001b[0;34m.\u001b[0m\u001b[0mnlevels\u001b[0m \u001b[0;34m>\u001b[0m \u001b[0;36m1\u001b[0m\u001b[0;34m:\u001b[0m\u001b[0;34m\u001b[0m\u001b[0;34m\u001b[0m\u001b[0m\n\u001b[1;32m   2979\u001b[0m                 \u001b[0;32mreturn\u001b[0m \u001b[0mself\u001b[0m\u001b[0;34m.\u001b[0m\u001b[0m_getitem_multilevel\u001b[0m\u001b[0;34m(\u001b[0m\u001b[0mkey\u001b[0m\u001b[0;34m)\u001b[0m\u001b[0;34m\u001b[0m\u001b[0;34m\u001b[0m\u001b[0m\n\u001b[0;32m-> 2980\u001b[0;31m             \u001b[0mindexer\u001b[0m \u001b[0;34m=\u001b[0m \u001b[0mself\u001b[0m\u001b[0;34m.\u001b[0m\u001b[0mcolumns\u001b[0m\u001b[0;34m.\u001b[0m\u001b[0mget_loc\u001b[0m\u001b[0;34m(\u001b[0m\u001b[0mkey\u001b[0m\u001b[0;34m)\u001b[0m\u001b[0;34m\u001b[0m\u001b[0;34m\u001b[0m\u001b[0m\n\u001b[0m\u001b[1;32m   2981\u001b[0m             \u001b[0;32mif\u001b[0m \u001b[0mis_integer\u001b[0m\u001b[0;34m(\u001b[0m\u001b[0mindexer\u001b[0m\u001b[0;34m)\u001b[0m\u001b[0;34m:\u001b[0m\u001b[0;34m\u001b[0m\u001b[0;34m\u001b[0m\u001b[0m\n\u001b[1;32m   2982\u001b[0m                 \u001b[0mindexer\u001b[0m \u001b[0;34m=\u001b[0m \u001b[0;34m[\u001b[0m\u001b[0mindexer\u001b[0m\u001b[0;34m]\u001b[0m\u001b[0;34m\u001b[0m\u001b[0;34m\u001b[0m\u001b[0m\n",
      "\u001b[0;32m/opt/conda/lib/python3.7/site-packages/pandas/core/indexes/base.py\u001b[0m in \u001b[0;36mget_loc\u001b[0;34m(self, key, method, tolerance)\u001b[0m\n\u001b[1;32m   2897\u001b[0m                 \u001b[0;32mreturn\u001b[0m \u001b[0mself\u001b[0m\u001b[0;34m.\u001b[0m\u001b[0m_engine\u001b[0m\u001b[0;34m.\u001b[0m\u001b[0mget_loc\u001b[0m\u001b[0;34m(\u001b[0m\u001b[0mkey\u001b[0m\u001b[0;34m)\u001b[0m\u001b[0;34m\u001b[0m\u001b[0;34m\u001b[0m\u001b[0m\n\u001b[1;32m   2898\u001b[0m             \u001b[0;32mexcept\u001b[0m \u001b[0mKeyError\u001b[0m\u001b[0;34m:\u001b[0m\u001b[0;34m\u001b[0m\u001b[0;34m\u001b[0m\u001b[0m\n\u001b[0;32m-> 2899\u001b[0;31m                 \u001b[0;32mreturn\u001b[0m \u001b[0mself\u001b[0m\u001b[0;34m.\u001b[0m\u001b[0m_engine\u001b[0m\u001b[0;34m.\u001b[0m\u001b[0mget_loc\u001b[0m\u001b[0;34m(\u001b[0m\u001b[0mself\u001b[0m\u001b[0;34m.\u001b[0m\u001b[0m_maybe_cast_indexer\u001b[0m\u001b[0;34m(\u001b[0m\u001b[0mkey\u001b[0m\u001b[0;34m)\u001b[0m\u001b[0;34m)\u001b[0m\u001b[0;34m\u001b[0m\u001b[0;34m\u001b[0m\u001b[0m\n\u001b[0m\u001b[1;32m   2900\u001b[0m         \u001b[0mindexer\u001b[0m \u001b[0;34m=\u001b[0m \u001b[0mself\u001b[0m\u001b[0;34m.\u001b[0m\u001b[0mget_indexer\u001b[0m\u001b[0;34m(\u001b[0m\u001b[0;34m[\u001b[0m\u001b[0mkey\u001b[0m\u001b[0;34m]\u001b[0m\u001b[0;34m,\u001b[0m \u001b[0mmethod\u001b[0m\u001b[0;34m=\u001b[0m\u001b[0mmethod\u001b[0m\u001b[0;34m,\u001b[0m \u001b[0mtolerance\u001b[0m\u001b[0;34m=\u001b[0m\u001b[0mtolerance\u001b[0m\u001b[0;34m)\u001b[0m\u001b[0;34m\u001b[0m\u001b[0;34m\u001b[0m\u001b[0m\n\u001b[1;32m   2901\u001b[0m         \u001b[0;32mif\u001b[0m \u001b[0mindexer\u001b[0m\u001b[0;34m.\u001b[0m\u001b[0mndim\u001b[0m \u001b[0;34m>\u001b[0m \u001b[0;36m1\u001b[0m \u001b[0;32mor\u001b[0m \u001b[0mindexer\u001b[0m\u001b[0;34m.\u001b[0m\u001b[0msize\u001b[0m \u001b[0;34m>\u001b[0m \u001b[0;36m1\u001b[0m\u001b[0;34m:\u001b[0m\u001b[0;34m\u001b[0m\u001b[0;34m\u001b[0m\u001b[0m\n",
      "\u001b[0;32mpandas/_libs/index.pyx\u001b[0m in \u001b[0;36mpandas._libs.index.IndexEngine.get_loc\u001b[0;34m()\u001b[0m\n",
      "\u001b[0;32mpandas/_libs/index.pyx\u001b[0m in \u001b[0;36mpandas._libs.index.IndexEngine.get_loc\u001b[0;34m()\u001b[0m\n",
      "\u001b[0;32mpandas/_libs/hashtable_class_helper.pxi\u001b[0m in \u001b[0;36mpandas._libs.hashtable.PyObjectHashTable.get_item\u001b[0;34m()\u001b[0m\n",
      "\u001b[0;32mpandas/_libs/hashtable_class_helper.pxi\u001b[0m in \u001b[0;36mpandas._libs.hashtable.PyObjectHashTable.get_item\u001b[0;34m()\u001b[0m\n",
      "\u001b[0;31mKeyError\u001b[0m: 'Id'"
     ]
    }
   ],
   "source": [
    "cols = ['OverallQual', 'GrLivArea', 'GarageCars', 'FullBath', 'YearBuilt']\n",
    "test_ID = df_test['Id'].values.tolist()\n",
    "df_test = df_test[cols]\n",
    "df_test = df_test.fillna(df_test.mean())"
   ]
  },
  {
   "cell_type": "code",
   "execution_count": 16,
   "metadata": {},
   "outputs": [
    {
     "data": {
      "text/plain": [
       "array([[-0.75110125, -1.21558782, -0.98801273, -1.02871967, -0.34094461],\n",
       "       [-0.05487716, -0.32353941, -0.98801273, -1.02871967, -0.43969491],\n",
       "       [-0.75110125,  0.29450799,  0.30162251,  0.77308345,  0.844059  ],\n",
       "       ...,\n",
       "       [-0.75110125, -0.539856  ,  0.30162251, -1.02871967, -0.37386137],\n",
       "       [-0.75110125, -1.06313613, -2.27764797, -1.02871967,  0.67947517],\n",
       "       [ 0.64134693,  1.0588266 ,  1.59125775,  0.77308345,  0.71239193]])"
      ]
     },
     "execution_count": 16,
     "metadata": {},
     "output_type": "execute_result"
    }
   ],
   "source": [
    "X_test = df_test.values\n",
    "# scale , mais pourquoi on réutilise pas celui utilisé sur X_train ? \n",
    "# scale = StandardScaler()\n",
    "X_test = scale.fit_transform(X_test)\n",
    "X_test"
   ]
  },
  {
   "cell_type": "markdown",
   "metadata": {},
   "source": [
    "#### Prédiction"
   ]
  },
  {
   "cell_type": "code",
   "execution_count": 17,
   "metadata": {},
   "outputs": [],
   "source": [
    "prediction = model.predict(X_test)"
   ]
  },
  {
   "cell_type": "code",
   "execution_count": 19,
   "metadata": {},
   "outputs": [],
   "source": [
    "submission = pd.DataFrame()\n",
    "submission['Id'] = test_ID\n",
    "submission['SalePrice'] = prediction\n",
    "submission.to_csv('Keras-5features.csv', index=False)"
   ]
  }
 ],
 "metadata": {
  "kernelspec": {
   "display_name": "Python 3",
   "language": "python",
   "name": "python3"
  },
  "language_info": {
   "codemirror_mode": {
    "name": "ipython",
    "version": 3
   },
   "file_extension": ".py",
   "mimetype": "text/x-python",
   "name": "python",
   "nbconvert_exporter": "python",
   "pygments_lexer": "ipython3",
   "version": "3.7.4"
  }
 },
 "nbformat": 4,
 "nbformat_minor": 2
}
